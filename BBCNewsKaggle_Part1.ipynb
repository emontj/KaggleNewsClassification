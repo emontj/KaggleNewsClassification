{
 "cells": [
  {
   "cell_type": "markdown",
   "metadata": {},
   "source": [
    "# Introduction\n",
    "This project involves classifying news sources based on one of 5 categories (business, entertainment, politics, sport, or tech).  The dataset is 2225 text articles.  This is an NLP task with unsupervised learning."
   ]
  },
  {
   "cell_type": "code",
   "execution_count": 84,
   "metadata": {},
   "outputs": [],
   "source": [
    "import numpy as np\n",
    "import pandas as pd\n",
    "from sklearn.feature_extraction.text import ENGLISH_STOP_WORDS\n",
    "import string\n",
    "from collections import Counter\n",
    "import matplotlib.pyplot as plt\n",
    "from sklearn.feature_extraction.text import CountVectorizer\n",
    "from sklearn.decomposition import NMF\n",
    "from sklearn.feature_extraction.text import TfidfVectorizer\n",
    "from sklearn.metrics import accuracy_score\n",
    "from sklearn.linear_model import LogisticRegression\n",
    "from joblib import dump"
   ]
  },
  {
   "cell_type": "markdown",
   "metadata": {},
   "source": [
    "# Exploratory Data Analysis\n",
    "## Examining the Data\n",
    "We will begin with an initial inspection of the data.  From this, we can see that it is a CSV of article IDs, text, and categories.  This is straight forward, and we can begin to consider ways to analyze the data."
   ]
  },
  {
   "cell_type": "code",
   "execution_count": 53,
   "metadata": {},
   "outputs": [
    {
     "name": "stdout",
     "output_type": "stream",
     "text": [
      "<class 'pandas.core.frame.DataFrame'>\n",
      "RangeIndex: 1490 entries, 0 to 1489\n",
      "Data columns (total 3 columns):\n",
      " #   Column     Non-Null Count  Dtype \n",
      "---  ------     --------------  ----- \n",
      " 0   ArticleId  1490 non-null   int64 \n",
      " 1   Text       1490 non-null   object\n",
      " 2   Category   1490 non-null   object\n",
      "dtypes: int64(1), object(2)\n",
      "memory usage: 35.0+ KB\n"
     ]
    },
    {
     "data": {
      "text/html": [
       "<div>\n",
       "<style scoped>\n",
       "    .dataframe tbody tr th:only-of-type {\n",
       "        vertical-align: middle;\n",
       "    }\n",
       "\n",
       "    .dataframe tbody tr th {\n",
       "        vertical-align: top;\n",
       "    }\n",
       "\n",
       "    .dataframe thead th {\n",
       "        text-align: right;\n",
       "    }\n",
       "</style>\n",
       "<table border=\"1\" class=\"dataframe\">\n",
       "  <thead>\n",
       "    <tr style=\"text-align: right;\">\n",
       "      <th></th>\n",
       "      <th>ArticleId</th>\n",
       "      <th>Text</th>\n",
       "      <th>Category</th>\n",
       "    </tr>\n",
       "  </thead>\n",
       "  <tbody>\n",
       "    <tr>\n",
       "      <th>0</th>\n",
       "      <td>1833</td>\n",
       "      <td>worldcom ex-boss launches defence lawyers defe...</td>\n",
       "      <td>business</td>\n",
       "    </tr>\n",
       "    <tr>\n",
       "      <th>1</th>\n",
       "      <td>154</td>\n",
       "      <td>german business confidence slides german busin...</td>\n",
       "      <td>business</td>\n",
       "    </tr>\n",
       "    <tr>\n",
       "      <th>2</th>\n",
       "      <td>1101</td>\n",
       "      <td>bbc poll indicates economic gloom citizens in ...</td>\n",
       "      <td>business</td>\n",
       "    </tr>\n",
       "    <tr>\n",
       "      <th>3</th>\n",
       "      <td>1976</td>\n",
       "      <td>lifestyle  governs mobile choice  faster  bett...</td>\n",
       "      <td>tech</td>\n",
       "    </tr>\n",
       "    <tr>\n",
       "      <th>4</th>\n",
       "      <td>917</td>\n",
       "      <td>enron bosses in $168m payout eighteen former e...</td>\n",
       "      <td>business</td>\n",
       "    </tr>\n",
       "  </tbody>\n",
       "</table>\n",
       "</div>"
      ],
      "text/plain": [
       "   ArticleId                                               Text  Category\n",
       "0       1833  worldcom ex-boss launches defence lawyers defe...  business\n",
       "1        154  german business confidence slides german busin...  business\n",
       "2       1101  bbc poll indicates economic gloom citizens in ...  business\n",
       "3       1976  lifestyle  governs mobile choice  faster  bett...      tech\n",
       "4        917  enron bosses in $168m payout eighteen former e...  business"
      ]
     },
     "execution_count": 53,
     "metadata": {},
     "output_type": "execute_result"
    }
   ],
   "source": [
    "training = pd.read_csv('learn-ai-bbc/BBC News Train.csv')\n",
    "training.info()\n",
    "training.head(5)"
   ]
  },
  {
   "cell_type": "markdown",
   "metadata": {},
   "source": [
    "## Considerations for Cleaning the Data\n",
    "In order to create contrast between the data, it may be worthwhile to remove common words such as \"the\", \"is\", and \"and\".  We will use the ENGLISH_STOP_WORDS to handle this.\n",
    "As for other cleaning ideas, there is not much to do as it seems like the data is generally intact with no gaps.  It would be beneficial to remove punctuation and make everything lowercase, for simplicity sake.\n",
    "Before we actually clean any data, lets just take alook at word frequency distribution as well as category distribution."
   ]
  },
  {
   "cell_type": "code",
   "execution_count": 54,
   "metadata": {},
   "outputs": [
    {
     "name": "stdout",
     "output_type": "stream",
     "text": [
      "<class 'pandas.core.frame.DataFrame'>\n",
      "RangeIndex: 1490 entries, 0 to 1489\n",
      "Data columns (total 4 columns):\n",
      " #   Column        Non-Null Count  Dtype \n",
      "---  ------        --------------  ----- \n",
      " 0   ArticleId     1490 non-null   int64 \n",
      " 1   Text          1490 non-null   object\n",
      " 2   Category      1490 non-null   object\n",
      " 3   cleaned_text  1490 non-null   object\n",
      "dtypes: int64(1), object(3)\n",
      "memory usage: 46.7+ KB\n",
      "None\n"
     ]
    },
    {
     "data": {
      "text/html": [
       "<div>\n",
       "<style scoped>\n",
       "    .dataframe tbody tr th:only-of-type {\n",
       "        vertical-align: middle;\n",
       "    }\n",
       "\n",
       "    .dataframe tbody tr th {\n",
       "        vertical-align: top;\n",
       "    }\n",
       "\n",
       "    .dataframe thead th {\n",
       "        text-align: right;\n",
       "    }\n",
       "</style>\n",
       "<table border=\"1\" class=\"dataframe\">\n",
       "  <thead>\n",
       "    <tr style=\"text-align: right;\">\n",
       "      <th></th>\n",
       "      <th>ArticleId</th>\n",
       "      <th>Text</th>\n",
       "      <th>Category</th>\n",
       "      <th>cleaned_text</th>\n",
       "    </tr>\n",
       "  </thead>\n",
       "  <tbody>\n",
       "    <tr>\n",
       "      <th>0</th>\n",
       "      <td>1833</td>\n",
       "      <td>worldcom ex-boss launches defence lawyers defe...</td>\n",
       "      <td>business</td>\n",
       "      <td>worldcom exboss launches defence lawyers defen...</td>\n",
       "    </tr>\n",
       "    <tr>\n",
       "      <th>1</th>\n",
       "      <td>154</td>\n",
       "      <td>german business confidence slides german busin...</td>\n",
       "      <td>business</td>\n",
       "      <td>german business confidence slides german busin...</td>\n",
       "    </tr>\n",
       "    <tr>\n",
       "      <th>2</th>\n",
       "      <td>1101</td>\n",
       "      <td>bbc poll indicates economic gloom citizens in ...</td>\n",
       "      <td>business</td>\n",
       "      <td>bbc poll indicates economic gloom citizens maj...</td>\n",
       "    </tr>\n",
       "    <tr>\n",
       "      <th>3</th>\n",
       "      <td>1976</td>\n",
       "      <td>lifestyle  governs mobile choice  faster  bett...</td>\n",
       "      <td>tech</td>\n",
       "      <td>lifestyle governs mobile choice faster better ...</td>\n",
       "    </tr>\n",
       "    <tr>\n",
       "      <th>4</th>\n",
       "      <td>917</td>\n",
       "      <td>enron bosses in $168m payout eighteen former e...</td>\n",
       "      <td>business</td>\n",
       "      <td>enron bosses 168m payout eighteen enron direct...</td>\n",
       "    </tr>\n",
       "  </tbody>\n",
       "</table>\n",
       "</div>"
      ],
      "text/plain": [
       "   ArticleId                                               Text  Category  \\\n",
       "0       1833  worldcom ex-boss launches defence lawyers defe...  business   \n",
       "1        154  german business confidence slides german busin...  business   \n",
       "2       1101  bbc poll indicates economic gloom citizens in ...  business   \n",
       "3       1976  lifestyle  governs mobile choice  faster  bett...      tech   \n",
       "4        917  enron bosses in $168m payout eighteen former e...  business   \n",
       "\n",
       "                                        cleaned_text  \n",
       "0  worldcom exboss launches defence lawyers defen...  \n",
       "1  german business confidence slides german busin...  \n",
       "2  bbc poll indicates economic gloom citizens maj...  \n",
       "3  lifestyle governs mobile choice faster better ...  \n",
       "4  enron bosses 168m payout eighteen enron direct...  "
      ]
     },
     "execution_count": 54,
     "metadata": {},
     "output_type": "execute_result"
    }
   ],
   "source": [
    "def clean_text(text):\n",
    "    text = text.translate(str.maketrans('', '', string.punctuation)) # Remove punctuation\n",
    "    text = text.lower() # Convert text to lowercase\n",
    "    words = text.split()\n",
    "    words = [word for word in words if word not in ENGLISH_STOP_WORDS]\n",
    "    return ' '.join(words)\n",
    "\n",
    "training['cleaned_text'] = training['Text'].apply(clean_text)\n",
    "\n",
    "print(training.info())\n",
    "training.head(5)"
   ]
  },
  {
   "cell_type": "markdown",
   "metadata": {},
   "source": [
    "Now, let's count the word frequency."
   ]
  },
  {
   "cell_type": "code",
   "execution_count": 55,
   "metadata": {},
   "outputs": [
    {
     "data": {
      "image/png": "[encoded data removed]",
      "text/plain": [
       "<Figure size 720x576 with 1 Axes>"
      ]
     },
     "metadata": {
      "needs_background": "light"
     },
     "output_type": "display_data"
    }
   ],
   "source": [
    "all_text = ' '.join(training['cleaned_text']) # Combine all cleaned text into one large string\n",
    "word_counts = Counter(all_text.split())\n",
    "most_common_words = word_counts.most_common(20)\n",
    "words, frequencies = zip(*most_common_words)\n",
    "\n",
    "plt.figure(figsize=(10, 8))\n",
    "plt.bar(words, frequencies)\n",
    "plt.xlabel('Words')\n",
    "plt.ylabel('Frequency')\n",
    "plt.xticks(rotation=45)\n",
    "plt.title('Top 20 Most Common Words')\n",
    "plt.show()"
   ]
  },
  {
   "cell_type": "markdown",
   "metadata": {},
   "source": [
    "## Additional Cleaning after EDA\n",
    "Now we can see that past stop words, there are still some junk words to remove.  Particularly, mr, said, s, and t.  Beyong that, we will leave words in.\n"
   ]
  },
  {
   "cell_type": "code",
   "execution_count": 56,
   "metadata": {},
   "outputs": [],
   "source": [
    "TO_REMOVE = ['mr', 'said', 's', 't']\n",
    "def clean_text_additional(text):\n",
    "    words = text.split()\n",
    "    words = [word for word in words if word not in TO_REMOVE]\n",
    "    return ' '.join(words)\n",
    "\n",
    "training['cleaned_text_2'] = training['cleaned_text'].apply(clean_text_additional)"
   ]
  },
  {
   "cell_type": "markdown",
   "metadata": {},
   "source": [
    "Now, lets view the frequency graph one more time."
   ]
  },
  {
   "cell_type": "code",
   "execution_count": 57,
   "metadata": {},
   "outputs": [
    {
     "data": {
      "image/png": "[encoded data removed]",
      "text/plain": [
       "<Figure size 720x576 with 1 Axes>"
      ]
     },
     "metadata": {
      "needs_background": "light"
     },
     "output_type": "display_data"
    }
   ],
   "source": [
    "all_text = ' '.join(training['cleaned_text_2'])\n",
    "word_counts = Counter(all_text.split())\n",
    "most_common_words = word_counts.most_common(20)\n",
    "words, frequencies = zip(*most_common_words)\n",
    "\n",
    "plt.figure(figsize=(10, 8))\n",
    "plt.bar(words, frequencies)\n",
    "plt.xlabel('Words')\n",
    "plt.ylabel('Frequency')\n",
    "plt.xticks(rotation=45)\n",
    "plt.title('Top 20 Most Common Words')\n",
    "plt.show()"
   ]
  },
  {
   "cell_type": "markdown",
   "metadata": {},
   "source": [
    "## Additional Exploration\n",
    "Now that we are done cleaning, we can look at other trends.  For example, do any categories typically have longer articles on average?  The answer is yes, tech articles tend to be longer.  While there isn't a ton of variation, this is something we will include for the model."
   ]
  },
  {
   "cell_type": "code",
   "execution_count": 59,
   "metadata": {},
   "outputs": [
    {
     "data": {
      "image/png": "[encoded data removed]",
      "text/plain": [
       "<Figure size 720x432 with 1 Axes>"
      ]
     },
     "metadata": {
      "needs_background": "light"
     },
     "output_type": "display_data"
    },
    {
     "data": {
      "text/plain": [
       "<Figure size 864x576 with 0 Axes>"
      ]
     },
     "metadata": {},
     "output_type": "display_data"
    },
    {
     "data": {
      "image/png": "[encoded data removed]",
      "text/plain": [
       "<Figure size 432x288 with 1 Axes>"
      ]
     },
     "metadata": {
      "needs_background": "light"
     },
     "output_type": "display_data"
    }
   ],
   "source": [
    "training['word_count'] = training['cleaned_text_2'].apply(lambda x: len(x.split()))\n",
    "\n",
    "# Visualize the distribution of article lengths\n",
    "plt.figure(figsize=(10, 6))\n",
    "plt.hist(training['word_count'], bins=50, alpha=0.7)\n",
    "plt.title('Distribution of Article Word Counts')\n",
    "plt.xlabel('Word Count')\n",
    "plt.ylabel('Frequency')\n",
    "plt.show()\n",
    "\n",
    "plt.figure(figsize=(12, 8))\n",
    "training.boxplot(column='word_count', by='Category', vert=False)\n",
    "plt.xlabel('Word Count')\n",
    "plt.title('Word Count Distribution by Category')\n",
    "plt.suptitle('')\n",
    "plt.show()"
   ]
  },
  {
   "cell_type": "markdown",
   "metadata": {},
   "source": [
    "## N-Gram Analysis\n",
    "N-Gram Analysis is a technique that can discover common combinations of words in the dataset.  This may help us generate trends between categories.  We will also store a top n-gram column for each article, which may give the model insights.  Since there are lots of 2-grams, we will focus on those for analysis, since 3-grams gets into a territory where not many share the same words.  For training feasibility, we will shorten the ngram column to simply one bigram phrase."
   ]
  },
  {
   "cell_type": "code",
   "execution_count": 60,
   "metadata": {},
   "outputs": [
    {
     "data": {
      "image/png": "[encoded data removed]",
      "text/plain": [
       "<Figure size 720x576 with 1 Axes>"
      ]
     },
     "metadata": {
      "needs_background": "light"
     },
     "output_type": "display_data"
    },
    {
     "data": {
      "image/png": "[encoded data removed]",
      "text/plain": [
       "<Figure size 720x576 with 1 Axes>"
      ]
     },
     "metadata": {
      "needs_background": "light"
     },
     "output_type": "display_data"
    },
    {
     "name": "stdout",
     "output_type": "stream",
     "text": [
      "<class 'pandas.core.frame.DataFrame'>\n",
      "RangeIndex: 1490 entries, 0 to 1489\n",
      "Data columns (total 7 columns):\n",
      " #   Column          Non-Null Count  Dtype \n",
      "---  ------          --------------  ----- \n",
      " 0   ArticleId       1490 non-null   int64 \n",
      " 1   Text            1490 non-null   object\n",
      " 2   Category        1490 non-null   object\n",
      " 3   cleaned_text    1490 non-null   object\n",
      " 4   cleaned_text_2  1490 non-null   object\n",
      " 5   word_count      1490 non-null   int64 \n",
      " 6   top_ngrams      1490 non-null   object\n",
      "dtypes: int64(2), object(5)\n",
      "memory usage: 81.6+ KB\n"
     ]
    },
    {
     "data": {
      "text/html": [
       "<div>\n",
       "<style scoped>\n",
       "    .dataframe tbody tr th:only-of-type {\n",
       "        vertical-align: middle;\n",
       "    }\n",
       "\n",
       "    .dataframe tbody tr th {\n",
       "        vertical-align: top;\n",
       "    }\n",
       "\n",
       "    .dataframe thead th {\n",
       "        text-align: right;\n",
       "    }\n",
       "</style>\n",
       "<table border=\"1\" class=\"dataframe\">\n",
       "  <thead>\n",
       "    <tr style=\"text-align: right;\">\n",
       "      <th></th>\n",
       "      <th>ArticleId</th>\n",
       "      <th>Text</th>\n",
       "      <th>Category</th>\n",
       "      <th>cleaned_text</th>\n",
       "      <th>cleaned_text_2</th>\n",
       "      <th>word_count</th>\n",
       "      <th>top_ngrams</th>\n",
       "    </tr>\n",
       "  </thead>\n",
       "  <tbody>\n",
       "    <tr>\n",
       "      <th>0</th>\n",
       "      <td>1833</td>\n",
       "      <td>worldcom ex-boss launches defence lawyers defe...</td>\n",
       "      <td>business</td>\n",
       "      <td>worldcom exboss launches defence lawyers defen...</td>\n",
       "      <td>worldcom exboss launches defence lawyers defen...</td>\n",
       "      <td>170</td>\n",
       "      <td>ms cooper</td>\n",
       "    </tr>\n",
       "    <tr>\n",
       "      <th>1</th>\n",
       "      <td>154</td>\n",
       "      <td>german business confidence slides german busin...</td>\n",
       "      <td>business</td>\n",
       "      <td>german business confidence slides german busin...</td>\n",
       "      <td>german business confidence slides german busin...</td>\n",
       "      <td>179</td>\n",
       "      <td>german business</td>\n",
       "    </tr>\n",
       "    <tr>\n",
       "      <th>2</th>\n",
       "      <td>1101</td>\n",
       "      <td>bbc poll indicates economic gloom citizens in ...</td>\n",
       "      <td>business</td>\n",
       "      <td>bbc poll indicates economic gloom citizens maj...</td>\n",
       "      <td>bbc poll indicates economic gloom citizens maj...</td>\n",
       "      <td>265</td>\n",
       "      <td>world economy</td>\n",
       "    </tr>\n",
       "    <tr>\n",
       "      <th>3</th>\n",
       "      <td>1976</td>\n",
       "      <td>lifestyle  governs mobile choice  faster  bett...</td>\n",
       "      <td>tech</td>\n",
       "      <td>lifestyle governs mobile choice faster better ...</td>\n",
       "      <td>lifestyle governs mobile choice faster better ...</td>\n",
       "      <td>313</td>\n",
       "      <td>dr bjorn</td>\n",
       "    </tr>\n",
       "    <tr>\n",
       "      <th>4</th>\n",
       "      <td>917</td>\n",
       "      <td>enron bosses in $168m payout eighteen former e...</td>\n",
       "      <td>business</td>\n",
       "      <td>enron bosses 168m payout eighteen enron direct...</td>\n",
       "      <td>enron bosses 168m payout eighteen enron direct...</td>\n",
       "      <td>195</td>\n",
       "      <td>university california</td>\n",
       "    </tr>\n",
       "  </tbody>\n",
       "</table>\n",
       "</div>"
      ],
      "text/plain": [
       "   ArticleId                                               Text  Category  \\\n",
       "0       1833  worldcom ex-boss launches defence lawyers defe...  business   \n",
       "1        154  german business confidence slides german busin...  business   \n",
       "2       1101  bbc poll indicates economic gloom citizens in ...  business   \n",
       "3       1976  lifestyle  governs mobile choice  faster  bett...      tech   \n",
       "4        917  enron bosses in $168m payout eighteen former e...  business   \n",
       "\n",
       "                                        cleaned_text  \\\n",
       "0  worldcom exboss launches defence lawyers defen...   \n",
       "1  german business confidence slides german busin...   \n",
       "2  bbc poll indicates economic gloom citizens maj...   \n",
       "3  lifestyle governs mobile choice faster better ...   \n",
       "4  enron bosses 168m payout eighteen enron direct...   \n",
       "\n",
       "                                      cleaned_text_2  word_count  \\\n",
       "0  worldcom exboss launches defence lawyers defen...         170   \n",
       "1  german business confidence slides german busin...         179   \n",
       "2  bbc poll indicates economic gloom citizens maj...         265   \n",
       "3  lifestyle governs mobile choice faster better ...         313   \n",
       "4  enron bosses 168m payout eighteen enron direct...         195   \n",
       "\n",
       "              top_ngrams  \n",
       "0              ms cooper  \n",
       "1        german business  \n",
       "2          world economy  \n",
       "3               dr bjorn  \n",
       "4  university california  "
      ]
     },
     "execution_count": 60,
     "metadata": {},
     "output_type": "execute_result"
    }
   ],
   "source": [
    "# Function to find and plot top N-Grams\n",
    "def plot_top_ngrams(corpus, n=None, ngrams=(1,1)):\n",
    "    vec = CountVectorizer(ngram_range=ngrams, stop_words='english').fit(corpus)\n",
    "    bag_of_words = vec.transform(corpus)\n",
    "    sum_words = bag_of_words.sum(axis=0)\n",
    "    words_freq = [(word, sum_words[0, idx]) for word, idx in vec.vocabulary_.items()]\n",
    "    words_freq = sorted(words_freq, key=lambda x: x[1], reverse=True)\n",
    "    top_words_freq = words_freq[:n]\n",
    "    top_words, top_freqs = zip(*top_words_freq)\n",
    "    plt.figure(figsize=(10, 8))\n",
    "    plt.bar(top_words, top_freqs)\n",
    "    plt.xticks(rotation=45)\n",
    "    plt.title(f\"Top {n} {ngrams[1]}-grams\")\n",
    "    plt.show()\n",
    "\n",
    "# Here, we will look at the top 20 trigrams and bigrams.\n",
    "plot_top_ngrams(training['cleaned_text_2'], n=20, ngrams=(3,3))  # Top 20 trigrams\n",
    "plot_top_ngrams(training['cleaned_text_2'], n=20, ngrams=(2,2))  # Top 20 bigrams\n",
    "\n",
    "\n",
    "def get_top_ngrams(corpus, n=None, ngrams=(1,1), top_n=10):\n",
    "    vec = CountVectorizer(ngram_range=ngrams, stop_words='english').fit(corpus)\n",
    "    bag_of_words = vec.transform(corpus)\n",
    "    sum_words = bag_of_words.sum(axis=0)\n",
    "    words_freq = [(word, sum_words[0, idx]) for word, idx in vec.vocabulary_.items()]\n",
    "    words_freq = sorted(words_freq, key=lambda x: x[1], reverse=True)\n",
    "    return words_freq[:top_n][0]\n",
    "\n",
    "# Assuming 'cleaned_text' is the column with cleaned text data\n",
    "training['top_ngrams'] = training['cleaned_text_2'].apply(lambda x: get_top_ngrams([x], ngrams=(2,2), top_n=1)[0])\n",
    "training.info()\n",
    "training.head(5)"
   ]
  },
  {
   "cell_type": "markdown",
   "metadata": {},
   "source": [
    "# Building and Training Models\n",
    "This will be an iterative process of tuning hyperparameters and testing.  For the base model, I elect to use NMF for matrix factorization.  I will also use TF-IDF to vectorize text.  The first model will be a \"base\", and then adjustments will be made to try and enhance performance.  We also will define a quick function to help comprehend the models and what words they are grouping together.\n",
    "\n",
    "## Initial Results\n",
    "Amazingly, we can tell by the associated topics in the matrix what each category is already.  The contrast is very stark!"
   ]
  },
  {
   "cell_type": "code",
   "execution_count": 66,
   "metadata": {},
   "outputs": [],
   "source": [
    "def get_top_words_for_topics(H, feature_names, n_top_words=10):\n",
    "    # Get top words for each topic\n",
    "    top_words = {}\n",
    "    for topic_idx, topic in enumerate(H):\n",
    "        top_features_ind = topic.argsort()[:-n_top_words - 1:-1]\n",
    "        top_features = [feature_names[i] for i in top_features_ind]\n",
    "        top_words[topic_idx] = top_features\n",
    "    return top_words"
   ]
  },
  {
   "cell_type": "code",
   "execution_count": 68,
   "metadata": {},
   "outputs": [
    {
     "name": "stdout",
     "output_type": "stream",
     "text": [
      "Fit ModeL:\n",
      "[[0.00521321 0.00059814 0.00894074 0.00359239 0.05472939]\n",
      " [0.         0.         0.         0.         0.19740318]\n",
      " [0.01255113 0.02536979 0.02498637 0.00077715 0.12148098]\n",
      " ...\n",
      " [0.00324666 0.         0.00271884 0.01224143 0.14899918]\n",
      " [0.         0.         0.23444953 0.00317061 0.01682641]\n",
      " [0.00126896 0.         0.09998925 0.         0.        ]]\n",
      "\n",
      "Components:\n",
      "[[1.18904589e-02 2.07137752e-02 6.25643775e-04 ... 1.73386460e-02\n",
      "  8.77996943e-04 1.03540055e-02]\n",
      " [6.71313158e-04 6.30589377e-02 3.09463632e-04 ... 0.00000000e+00\n",
      "  1.25598119e-05 0.00000000e+00]\n",
      " [2.18075244e-04 8.51954394e-02 2.44874547e-04 ... 0.00000000e+00\n",
      "  1.96507395e-04 0.00000000e+00]\n",
      " [0.00000000e+00 2.58577041e-02 0.00000000e+00 ... 0.00000000e+00\n",
      "  1.12028071e-03 3.41752316e-04]\n",
      " [0.00000000e+00 1.08609698e-01 6.24149303e-05 ... 1.93068894e-04\n",
      "  0.00000000e+00 0.00000000e+00]]\n",
      "\n",
      "{0: ['england', 'game', 'win', 'wales', 'ireland', 'cup', 'players', 'play', 'team', 'france'], 1: ['labour', 'election', 'blair', 'brown', 'party', 'government', 'tax', 'minister', 'howard', 'prime'], 2: ['mobile', 'people', 'music', 'phone', 'digital', 'phones', 'technology', 'users', 'microsoft', 'broadband'], 3: ['film', 'best', 'awards', 'award', 'actor', 'actress', 'won', 'director', 'films', 'oscar'], 4: ['growth', 'economy', 'economic', 'year', 'bank', 'sales', 'dollar', 'oil', 'market', '2004']}\n"
     ]
    }
   ],
   "source": [
    "tfidf_vectorizer = TfidfVectorizer(max_features=None)\n",
    "tfidf_matrix = tfidf_vectorizer.fit_transform(training['cleaned_text_2'])\n",
    "\n",
    "nmf_model = NMF(n_components=5, random_state=0)\n",
    "W = nmf_model.fit_transform(tfidf_matrix)\n",
    "H = nmf_model.components_\n",
    "\n",
    "print('Fit ModeL:')\n",
    "print(W)\n",
    "print()\n",
    "print('Components:')\n",
    "print(H)\n",
    "print()\n",
    "\n",
    "feature_names = tfidf_vectorizer.get_feature_names_out()\n",
    "top_words_per_topic = get_top_words_for_topics(H, feature_names, 10)\n",
    "print(top_words_per_topic)"
   ]
  },
  {
   "cell_type": "markdown",
   "metadata": {},
   "source": [
    "From these, we can also define which topics are which categories."
   ]
  },
  {
   "cell_type": "code",
   "execution_count": 70,
   "metadata": {},
   "outputs": [],
   "source": [
    "topic_to_category = {\n",
    "    0: 'sport',\n",
    "    1: 'politics',\n",
    "    2: 'tech',\n",
    "    3: 'entertainment',\n",
    "    4: 'business'\n",
    "}"
   ]
  },
  {
   "cell_type": "markdown",
   "metadata": {},
   "source": [
    "Now lets evaluate the base model on the training set's unfiltered data.  As we can see, 92% accuracy is pretty good for a first run,"
   ]
  },
  {
   "cell_type": "code",
   "execution_count": 74,
   "metadata": {},
   "outputs": [
    {
     "name": "stdout",
     "output_type": "stream",
     "text": [
      "0.9241610738255034\n"
     ]
    }
   ],
   "source": [
    "# Getting the predictions out of the model\n",
    "new_tfidf_matrix = tfidf_vectorizer.transform(training['Text'])\n",
    "new_W = nmf_model.transform(new_tfidf_matrix)\n",
    "dominant_topics = np.argmax(new_W, axis=1)\n",
    "predicted_categories = [topic_to_category[topic] for topic in dominant_topics]\n",
    "\n",
    "# Training accuracy\n",
    "accuracy = accuracy_score(training['Category'], predicted_categories)\n",
    "print(accuracy)\n"
   ]
  },
  {
   "cell_type": "markdown",
   "metadata": {},
   "source": [
    "We will go ahead and save this model."
   ]
  },
  {
   "cell_type": "code",
   "execution_count": 76,
   "metadata": {},
   "outputs": [
    {
     "data": {
      "text/plain": [
       "['nmf_model.joblib']"
      ]
     },
     "execution_count": 76,
     "metadata": {},
     "output_type": "execute_result"
    }
   ],
   "source": [
    "dump(nmf_model, 'nmf_model.joblib')"
   ]
  },
  {
   "cell_type": "markdown",
   "metadata": {},
   "source": [
    "## Generating Predictions on the Test CSV"
   ]
  },
  {
   "cell_type": "code",
   "execution_count": 83,
   "metadata": {},
   "outputs": [],
   "source": [
    "test = pd.read_csv('learn-ai-bbc/BBC News Test.csv')\n",
    "test['cleaned_text'] = test['Text'].apply(clean_text)\n",
    "test['cleaned_text_2'] = test['cleaned_text'].apply(clean_text_additional)\n",
    "\n",
    "new_tfidf_matrix = tfidf_vectorizer.transform(test['cleaned_text_2'])\n",
    "new_W = nmf_model.transform(new_tfidf_matrix)\n",
    "dominant_topics = np.argmax(new_W, axis=1)\n",
    "predicted_categories = [topic_to_category[topic] for topic in dominant_topics]\n",
    "\n",
    "output = test[['ArticleId']].copy()\n",
    "output['Category'] = predicted_categories\n",
    "\n",
    "output.to_csv('predicted_categories_with_ids.csv', index=False)"
   ]
  },
  {
   "cell_type": "markdown",
   "metadata": {},
   "source": [
    "# Comparison with Superivsed Learning\n",
    "Now we will compare with a supervised learning method.  For this, we will implement a LogisticRegression model as well as a TF-IDF vectorization beforehand."
   ]
  },
  {
   "cell_type": "code",
   "execution_count": 88,
   "metadata": {},
   "outputs": [
    {
     "name": "stdout",
     "output_type": "stream",
     "text": [
      "0.9973154362416108\n"
     ]
    }
   ],
   "source": [
    "tfidf_vectorizer = TfidfVectorizer(max_features=None, stop_words='english')\n",
    "\n",
    "model = LogisticRegression(random_state=42, max_iter=1000)\n",
    "model.fit(tfidf_matrix, training['Category'])\n",
    "predicted_categories = model.predict(tfidf_matrix)\n",
    "\n",
    "# Training accuracy\n",
    "accuracy = accuracy_score(training['Category'], predicted_categories)\n",
    "print(accuracy)"
   ]
  },
  {
   "cell_type": "markdown",
   "metadata": {},
   "source": [
    "The accuracy is impressive on this model in the training series.  Let's generate test predictions."
   ]
  },
  {
   "cell_type": "code",
   "execution_count": 90,
   "metadata": {},
   "outputs": [],
   "source": [
    "# new_tfidf_matrix = tfidf_vectorizer.transform(test['cleaned_text_2'])\n",
    "predicted_categories = model.predict(new_tfidf_matrix)\n",
    "\n",
    "# output to CSV\n",
    "output = test[['ArticleId']].copy()\n",
    "output['Category'] = predicted_categories\n",
    "\n",
    "output.to_csv('supervised_category_outputs_with_ids.csv', index=False)"
   ]
  },
  {
   "cell_type": "markdown",
   "metadata": {},
   "source": [
    "# Conclusion"
   ]
  },
  {
   "cell_type": "markdown",
   "metadata": {},
   "source": [
    "## Supervised vs Unsupervised\n",
    "It appears that in this case, the supervised model dominates.  The supervised model I produced here clocked at 1st place on the leaderboard (98% accuracy), and the unsupervised, while decent (93% accuracy), was near the bottom.\n",
    "\n",
    "With more effort, an unsupervised model could be more competitive, but it seems that a supervised model is able to handle this task much more effectively than an unsupervised."
   ]
  },
  {
   "cell_type": "markdown",
   "metadata": {},
   "source": []
  },
  {
   "cell_type": "markdown",
   "metadata": {},
   "source": [
    "# References"
   ]
  },
  {
   "cell_type": "markdown",
   "metadata": {},
   "source": [
    "Dayal, D. (2020, October 27). Unsupervised NLP : Methods and intuitions behind working with unstructured texts. Medium. https://towardsdatascience.com/unsupervised-nlp-methods-and-intuitions-behind-working-with-unstructured-texts-b84aa4d286da \n",
    "\n",
    "Garg, V. (2018). Supervising unsupervised learning - MIT. MIT.edu. https://www.mit.edu/~vgarg/neurips2018sup.pdf \n",
    "\n",
    "OpenAI. (2018). Improving language understanding with unsupervised learning. https://openai.com/research/language-unsupervised \n",
    "\n",
    "Vlachos, A. (2011). Evaluating unsupervised learning for natural language - University of Wisconsin-Madison. https://aclanthology.org/W11-2205.pdf "
   ]
  },
  {
   "cell_type": "markdown",
   "metadata": {},
   "source": []
  },
  {
   "cell_type": "markdown",
   "metadata": {},
   "source": [
    "# Part 2: Matrix Factorization of Week 3 Matrix\n",
    "## Re-importing Libraries\n",
    "We are now tasked with using Matrix Factorization similar to the above to try and fill in blanks within the movie database.\n",
    "\n",
    "I will treat this as its entirely own section and begin by reimporting modules."
   ]
  },
  {
   "cell_type": "code",
   "execution_count": 1,
   "metadata": {},
   "outputs": [],
   "source": [
    "import pandas as pd\n",
    "from sklearn.decomposition import NMF\n",
    "from sklearn.metrics import mean_squared_error\n",
    "from math import sqrt\n",
    "import numpy as np"
   ]
  },
  {
   "cell_type": "markdown",
   "metadata": {},
   "source": [
    "## Loading in the Data\n",
    "Now we need to load the data.  The linked source in HW3 is a Kaggle repository with .dat files for all info.  The below code seems to work for loading in the data, and it appears to look similar to how HW3 showed the data after it loaded it in"
   ]
  },
  {
   "cell_type": "code",
   "execution_count": 3,
   "metadata": {},
   "outputs": [
    {
     "name": "stdout",
     "output_type": "stream",
     "text": [
      "   UserID  MovieID  Rating  Timestamp\n",
      "0       1     1193       5  978300760\n",
      "1       1      661       3  978302109\n",
      "2       1      914       3  978301968\n",
      "3       1     3408       4  978300275\n",
      "4       1     2355       5  978824291\n"
     ]
    }
   ],
   "source": [
    "user_columns = ['UserID', 'Gender', 'Age', 'Occupation', 'Zip-code']\n",
    "rating_columns = ['UserID', 'MovieID', 'Rating', 'Timestamp']\n",
    "movie_columns = ['MovieID', 'Title', 'Genres']\n",
    "\n",
    "users = pd.read_csv('archive/users.dat', sep='::', engine='python', names=user_columns)\n",
    "ratings = pd.read_csv('archive/ratings.dat', sep='::', engine='python', names=rating_columns)\n",
    "movies = pd.read_csv('archive/movies.dat', sep='::', engine='python', names=movie_columns, encoding='latin-1')\n",
    "\n",
    "# Quick look at the data\n",
    "print(ratings.head())"
   ]
  },
  {
   "cell_type": "markdown",
   "metadata": {},
   "source": [
    "## Creating the Matrix\n",
    "Now we will create the matrix.  This is comparable to the self.Mr matrix in HW3 "
   ]
  },
  {
   "cell_type": "code",
   "execution_count": 4,
   "metadata": {},
   "outputs": [
    {
     "name": "stdout",
     "output_type": "stream",
     "text": [
      "MovieID  1     2     3     4     5     6     7     8     9     10    ...  \\\n",
      "UserID                                                               ...   \n",
      "1         5.0   0.0   0.0   0.0   0.0   0.0   0.0   0.0   0.0   0.0  ...   \n",
      "2         0.0   0.0   0.0   0.0   0.0   0.0   0.0   0.0   0.0   0.0  ...   \n",
      "3         0.0   0.0   0.0   0.0   0.0   0.0   0.0   0.0   0.0   0.0  ...   \n",
      "4         0.0   0.0   0.0   0.0   0.0   0.0   0.0   0.0   0.0   0.0  ...   \n",
      "5         0.0   0.0   0.0   0.0   0.0   2.0   0.0   0.0   0.0   0.0  ...   \n",
      "\n",
      "MovieID  3943  3944  3945  3946  3947  3948  3949  3950  3951  3952  \n",
      "UserID                                                               \n",
      "1         0.0   0.0   0.0   0.0   0.0   0.0   0.0   0.0   0.0   0.0  \n",
      "2         0.0   0.0   0.0   0.0   0.0   0.0   0.0   0.0   0.0   0.0  \n",
      "3         0.0   0.0   0.0   0.0   0.0   0.0   0.0   0.0   0.0   0.0  \n",
      "4         0.0   0.0   0.0   0.0   0.0   0.0   0.0   0.0   0.0   0.0  \n",
      "5         0.0   0.0   0.0   0.0   0.0   0.0   0.0   0.0   0.0   0.0  \n",
      "\n",
      "[5 rows x 3706 columns]\n"
     ]
    }
   ],
   "source": [
    "# Create a user-movie matrix\n",
    "ratings_matrix = ratings.pivot(index='UserID', columns='MovieID', values='Rating')\n",
    "ratings_matrix.fillna(0, inplace=True)\n",
    "print(ratings_matrix.head())"
   ]
  },
  {
   "cell_type": "markdown",
   "metadata": {},
   "source": [
    "## Applying the NMF and Calculating RMSE\n",
    "Now we are ready to apply NMF and look at the RMSE."
   ]
  },
  {
   "cell_type": "code",
   "execution_count": 6,
   "metadata": {},
   "outputs": [
    {
     "name": "stdout",
     "output_type": "stream",
     "text": [
      "RMSE: 0.8501777027662049\n"
     ]
    }
   ],
   "source": [
    "nmf_model = NMF(n_components=20, init='random', random_state=0)\n",
    "user_feature_matrix = nmf_model.fit_transform(ratings_matrix)\n",
    "movie_feature_matrix = nmf_model.components_\n",
    "\n",
    "# Predicting the ratings here\n",
    "predicted_ratings = np.dot(user_feature_matrix, movie_feature_matrix)\n",
    "\n",
    "# Replace the nonzero values of the original ratings matrix with 0 to ignore them in RMSE calculation, which makes it more accurate.\n",
    "ratings_matrix_np = ratings_matrix.to_numpy()\n",
    "predicted_ratings[ratings_matrix_np > 0] = 0\n",
    "\n",
    "# Calculate RMSE\n",
    "rmse = sqrt(mean_squared_error(ratings_matrix_np, predicted_ratings))\n",
    "print(f\"RMSE: {rmse}\")"
   ]
  },
  {
   "cell_type": "markdown",
   "metadata": {},
   "source": [
    "## Discussion of Results\n",
    "The RMSE was 0.85.  This means that the estimate was nearly 1 rating unit off.  Since the ratings are 1 to 5, I think that this is a significant amount of error, but its not terrible.\n",
    "\n",
    "Ultimately, the model has predictive value, but is far from perfect.\n",
    "\n",
    "### Suggestions for Improvement:\n",
    "- Use More Complex Models: Exploring more complex models like SVD++ or deep learning-based recommender systems might yield better results.  This may fall out of the scope of \"unsupervised\", however\n",
    "- Feature Engineering: Incorporating additional features from the users and movies datasets, such as genres or user demographics, could enhance the model's performance.\n",
    "- Incorporate Bias: Modify the model to account for user and item biases, which could improve accuracy. For example, if a user is consistenly low in rating.  This could just mean normalizing ratings in some way."
   ]
  },
  {
   "cell_type": "markdown",
   "metadata": {},
   "source": []
  }
 ],
 "metadata": {
  "kernelspec": {
   "display_name": "Python 3",
   "language": "python",
   "name": "python3"
  },
  "language_info": {
   "codemirror_mode": {
    "name": "ipython",
    "version": 3
   },
   "file_extension": ".py",
   "mimetype": "text/x-python",
   "name": "python",
   "nbconvert_exporter": "python",
   "pygments_lexer": "ipython3",
   "version": "3.10.6"
  }
 },
 "nbformat": 4,
 "nbformat_minor": 2
}
